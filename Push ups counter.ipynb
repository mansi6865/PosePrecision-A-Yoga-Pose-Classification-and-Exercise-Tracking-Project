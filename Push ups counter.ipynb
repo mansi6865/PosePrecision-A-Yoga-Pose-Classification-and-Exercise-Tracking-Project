import cv2
import mediapipe as mp

mp_drawing = mp.solutions.drawing_utils
mp_pose = mp.solutions.pose

cap = cv2.VideoCapture(0)  # Capture video from webcam
pushup_count = 0
pushup_detected = False

with mp_pose.Pose(min_detection_confidence=0.5, min_tracking_confidence=0.5) as pose:
    while cap.isOpened():
        ret, frame = cap.read()
        if not ret:
#             print("Ignoring empty camera frame.")
            continue

        # Convert the BGR image to RGB.
        image = cv2.cvtColor(frame, cv2.COLOR_BGR2RGB)
        image.flags.writeable = False

        # Process the image and detect the pose landmarks.
        results = pose.process(image)

        image.flags.writeable = True
        image = cv2.cvtColor(image, cv2.COLOR_RGB2BGR)

        if results.pose_landmarks is not None:
            # Get the left and right shoulder and hip landmarks.
            left_shoulder = results.pose_landmarks.landmark[mp_pose.PoseLandmark.LEFT_SHOULDER]
            right_shoulder = results.pose_landmarks.landmark[mp_pose.PoseLandmark.RIGHT_SHOULDER]
            left_hip = results.pose_landmarks.landmark[mp_pose.PoseLandmark.LEFT_HIP]
            right_hip = results.pose_landmarks.landmark[mp_pose.PoseLandmark.RIGHT_HIP]

            # Calculate the angle between the shoulders and hips.
            angle = abs((left_shoulder.y - left_hip.y) + (right_shoulder.y - right_hip.y))

            if angle < 0.1:  # If the angle is less than a threshold, consider it as a push-up
                if not pushup_detected:  # If a push-up has not been detected in the previous frame
                    pushup_count += 1
                    pushup_detected = True  # Set the flag to True to avoid counting multiple times for the same push-up
            else:
                pushup_detected = False  # Reset the flag if the angle is not below the threshold

        # Draw the pose landmarks and the push-up count on the frame.
        mp_drawing.draw_landmarks(image, results.pose_landmarks, mp_pose.POSE_CONNECTIONS)
        cv2.putText(image, f"Push-ups: {pushup_count}", (10, 30), cv2.FONT_HERSHEY_SIMPLEX, 1, (0, 255, 0), 2)

        cv2.imshow('Push-up Counter', image)
        if cv2.waitKey(10) & 0xFF == ord('q'):
            break

cap.release()
cv2.destroyAllWindows()
